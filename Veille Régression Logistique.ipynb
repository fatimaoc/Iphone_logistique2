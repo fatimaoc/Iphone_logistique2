{
 "cells": [
  {
   "cell_type": "markdown",
   "metadata": {},
   "source": [
    "# Veille sur la régression logistique"
   ]
  },
  {
   "cell_type": "markdown",
   "metadata": {},
   "source": [
    "### La regression logistique appartient aux modèles linéaires généralisés"
   ]
  },
  {
   "cell_type": "markdown",
   "metadata": {},
   "source": [
    "Rappel Modeles linéaires généralisés:\n",
    "Il s'agit de modeldes de régression qui sont des extensions du modele linèaire et qui reposent sur 3 elements :\n",
    "\n",
    "1/Un prédicteur linéiare\n",
    "2/Une fonction de lien\n",
    "3/Une structure des erreurs\n",
    "    "
   ]
  },
  {
   "cell_type": "markdown",
   "metadata": {},
   "source": [
    "La régression logistique est une méthode d'analyse statistique qui consiste à prédire une valeur de données d'après les observations réelles d'un jeu de données."
   ]
  },
  {
   "cell_type": "markdown",
   "metadata": {},
   "source": [
    "## 1/Généralités"
   ]
  },
  {
   "cell_type": "markdown",
   "metadata": {},
   "source": [
    "Cette approche permet d'utiliser un algorithme dans l'application d'apprentissage automatique pour classer les données entrantes en fonction des données historiques (non aux problemes de regression). Plus il y a de données pertinentes en entrée, plus l'algorithme est en mesure de prédire des classifications au sein des jeux de données."
   ]
  },
  {
   "cell_type": "markdown",
   "metadata": {},
   "source": [
    "Elle permet d'analyser une variable Binaire ( soit oui/non soit 0/1 soit vrai/faux) en fonctiond'une variable explicative quantitative"
   ]
  },
  {
   "cell_type": "markdown",
   "metadata": {},
   "source": [
    "La regression logistique est un cas particulier de Modèle Lineaire Généralisé"
   ]
  },
  {
   "cell_type": "markdown",
   "metadata": {},
   "source": [
    "La regression logistique est une approche statistique qui peut-être employée pour évaluer et caractériser les relations entre :\n",
    "*une variable réponse de type binaire\n",
    "*et  une, ou plusieurs variables explicatives de type catégoriel (par ex : sexe)\n",
    "*ou numérique continu ( exemple âge)\n",
    "    "
   ]
  },
  {
   "cell_type": "markdown",
   "metadata": {},
   "source": [
    "## 2/Les principaux élements de la régression logistique"
   ]
  },
  {
   "cell_type": "markdown",
   "metadata": {},
   "source": [
    "### A/Modelisation de la probalité"
   ]
  },
  {
   "cell_type": "markdown",
   "metadata": {},
   "source": [
    "Dans la regression logistique , on ne modelise pas la reponse binaire mais la probabilité de réalisation d'une des deux modalités.\n",
    "Cette probabilité est modelisée par une courbe sigmoïde, bornée par 0 et 1.\n"
   ]
  },
  {
   "cell_type": "markdown",
   "metadata": {},
   "source": [
    "#### Qu'est ce qu'une courbe sigmoïde ?\n"
   ]
  },
  {
   "cell_type": "markdown",
   "metadata": {},
   "source": [
    "Cette courbe sigmoïde est définie par la fonction logistique, d’équation :\n",
    "\n",
    "f(x)=exp(x)1+exp(x)=p"
   ]
  },
  {
   "cell_type": "markdown",
   "metadata": {},
   "source": [
    "### B/La fonction logistique"
   ]
  },
  {
   "cell_type": "markdown",
   "metadata": {},
   "source": [
    "### C/La fonction de lien logit"
   ]
  },
  {
   "cell_type": "markdown",
   "metadata": {},
   "source": [
    "### D/La structure D'erreur"
   ]
  },
  {
   "cell_type": "markdown",
   "metadata": {},
   "source": [
    "### E/Les coefficients estimés sont des log odds ratio"
   ]
  },
  {
   "cell_type": "code",
   "execution_count": null,
   "metadata": {},
   "outputs": [],
   "source": []
  },
  {
   "cell_type": "code",
   "execution_count": null,
   "metadata": {},
   "outputs": [],
   "source": []
  }
 ],
 "metadata": {
  "kernelspec": {
   "display_name": "Python 3",
   "language": "python",
   "name": "python3"
  },
  "language_info": {
   "codemirror_mode": {
    "name": "ipython",
    "version": 3
   },
   "file_extension": ".py",
   "mimetype": "text/x-python",
   "name": "python",
   "nbconvert_exporter": "python",
   "pygments_lexer": "ipython3",
   "version": "3.6.12"
  }
 },
 "nbformat": 4,
 "nbformat_minor": 4
}
